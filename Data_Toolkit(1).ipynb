{
  "nbformat": 4,
  "nbformat_minor": 0,
  "metadata": {
    "colab": {
      "provenance": []
    },
    "kernelspec": {
      "name": "python3",
      "display_name": "Python 3"
    },
    "language_info": {
      "name": "python"
    }
  },
  "cells": [
    {
      "cell_type": "markdown",
      "source": [
        "# **Data Toolkit**\n",
        "\n",
        "\n",
        "Q1. **A What is NumPy, and why is it widely used in Python?**\n",
        "  - **NumPy**(Numerical Python):- is a fundamental library in Python, designed for performing high-performance numerical computations. It's widely used in scientific computing, data analysis, machine learning, and other fields because it provides efficient tools for handling large datasets and performing mathematical operations.\n",
        "Here’s why NumPy is so popular in Python:-\n",
        "\n",
        " - **Multi-dimensional Arrays:-** At its core, NumPy introduces the ndarray, a powerful object for creating and manipulating multi-dimensional arrays. It's much faster and more memory-efficient than Python's built-in lists.\n",
        "- **Mathematical Operations:-** NumPy comes with a wide range of optimized mathematical functions that can operate element-wise on entire arrays without the need for explicit loops (vectorization).\n",
        "- **Broadcasting:-** It supports broadcasting, allowing operations between arrays of different shapes, which simplifies coding and enhances performance.\n",
        "- **Integration with Other Libraries:-** NumPy is the foundation for many other Python libraries, like pandas, SciPy, and scikit-learn, making it a crucial part of the Python scientific stack.\n",
        "- **Ease of Use:-** Its syntax is intuitive, and it offers a rich ecosystem of tools for numerical computation and data manipulation.\n",
        "- **Performance:-**Written in C, NumPy delivers excellent performance, as its underlying implementation avoids the overhead of Python loops.\n",
        "\n",
        "Q2. **How does broadcasting work in NumPy?**\n",
        "  - Broadcasting in NumPy is a feature that enables operations between arrays of different shapes, by automatically \"stretching\" the smaller array to match the shape of the larger one. This eliminates the need for manual resizing or duplication of data and makes computations more efficient and intuitive.\n",
        "\n",
        " **How it Works**:--\n",
        "- **Shape Compatibility:-** When performing operations, NumPy compares the shapes of the arrays from right to left (trailing dimensions). If the dimensions match or one of them is 1, they are considered compatible.\n",
        "- **Stretching:-** If a dimension of one array is 1, NumPy virtually \"stretches\" it along that axis to match the size of the other array. It's important to note that no new memory is allocated—this is purely conceptual.\n",
        "- **Result Shape:-** The resulting shape is determined by taking the maximum size along each axis of the compatible shapes.\n",
        "\n",
        "Q3. **What is a Pandas DataFrame?**\n",
        "  - A **Pandas DataFrame** is a two-dimensional, labeled data structure in Python's Pandas library, used for data manipulation and analysis. it is like a table in a spreadsheet or a SQL database—it has rows and columns, where each column can have a different data type.\n",
        "\n",
        "Q4. **Explain the use of the groupby() method in Pandas.**\n",
        "  - The groupby() method in Pandas is a powerful tool for grouping data based on a specific column and applying operations to each group separately. It's commonly used in data analysis for aggregating, filtering, and transforming datasets.\n",
        "How groupby() Works\n",
        "The method works in three steps:\n",
        "- **Splitting** the data into groups based on a specified column.\n",
        "- **Applying** an operation (like sum, mean, count, etc.) to each group.\n",
        "- **Combining**the results into a new DataFrame.\n",
        "\n",
        "\n",
        "\n",
        "\n",
        "\n",
        "\n",
        "\n",
        "\n",
        "\n"
      ],
      "metadata": {
        "id": "VqF06khsAlRC"
      }
    },
    {
      "cell_type": "code",
      "execution_count": null,
      "metadata": {
        "colab": {
          "base_uri": "https://localhost:8080/"
        },
        "id": "hiu-oYRs_YJT",
        "outputId": "2e8ef64f-31fd-4f76-9ef1-2edcd038e614"
      },
      "outputs": [
        {
          "output_type": "stream",
          "name": "stdout",
          "text": [
            "Department\n",
            "HR       58500.0\n",
            "IT       72500.0\n",
            "Sales    55000.0\n",
            "Name: Salary, dtype: float64\n"
          ]
        }
      ],
      "source": [
        "#Example:-\n",
        "import pandas as pd\n",
        "\n",
        "# Sample dataset\n",
        "data = {'Department': ['Sales', 'Sales', 'HR', 'HR', 'IT', 'IT'],\n",
        "        'Employee': ['Alice', 'Bob', 'Charlie', 'David', 'Eve', 'Frank'],\n",
        "        'Salary': [50000, 60000, 55000, 62000, 70000, 75000]}\n",
        "\n",
        "df = pd.DataFrame(data)\n",
        "\n",
        "# Grouping by 'Department' and calculating mean salary\n",
        "grouped_df = df.groupby('Department')['Salary'].mean()\n",
        "\n",
        "print(grouped_df)"
      ]
    },
    {
      "cell_type": "markdown",
      "source": [
        "*Common Operations with groupby()*\n",
        "- **.sum():-** Get the total sum of values in each group.\n",
        "- **.mean():-** Compute the average of values.\n",
        "- **.count():-** Count the number of occurrences in each group.\n",
        "- **.max(), .min():-** Get the maximum or minimum values.\n",
        "\n",
        "Q5. **Why is Seaborn preferred for statistical visualizations?**\n",
        "  - Seaborn is a popular choice for statistical visualizations because it simplifies complex plotting while maintaining aesthetic appeal. It is built on top of Matplotlib and integrates seamlessly with Pandas, making it easy to visualize data directly from dataframes.\n",
        "Some key reasons why Seaborn is preferred:-\n",
        "\n",
        " - **Beautiful and professional-looking plots:-** Seaborn provides visually appealing default styles that enhance readability.\n",
        "- **Simplified syntax:-** Compared to Matplotlib, Seaborn requires fewer lines of code to generate complex statistical plots.\n",
        "- **Built-in statistical functions:-** It supports various statistical visualizations like scatter plots, box plots, violin plots, and regression models.\n",
        "- **Customization options:-** Users can easily modify colors, styles, and themes to match their preferences.\n",
        "- **Strong community support:-** Extensive documentation and active development make it beginner-friendly.\n",
        "\n",
        "\n",
        "Q6. **What are the differences between NumPy arrays and Python lists?**\n",
        "  - **NumPy arrays** and **Python lists** are both used to store collections of data, but they differ significantly in functionality, performance, and use cases.\n",
        "\n",
        "     **Defferences between NumPy arrays and Python lists:-**\n",
        "\n",
        "  - **Data Type Consistency:-**\n",
        "\n",
        "   - NumPy Arrays: Require all elements to be of the same data type (e.g., all integers or floats). This enables efficient memory usage and optimized operations.\n",
        "\n",
        "   - Python Lists:- Can store elements of different data types (e.g., integers, strings, objects) in the same list, offering flexibility but less efficiency.\n",
        "\n",
        "- **Performance:-**\n",
        "\n",
        "  - NumPy Arrays: Much faster for numerical computations due to fixed data types, contiguous memory allocation, and optimized C-based operations. Ideal for large datasets.\n",
        "\n",
        "  - Python Lists:- Slower for numerical tasks because they are implemented as dynamic arrays of pointers, requiring type checking and interpreted execution.\n",
        "\n",
        " **Functionality:-**\n",
        "\n",
        " - NumPy Arrays: Support advanced mathematical operations (e.g., element-wise addition, matrix multiplication, broadcasting) and multidimensional arrays (e.g., 2D matrices, 3D tensors).\n",
        "\n",
        " - Python Lists:- Limited to basic operations like appending, slicing, and concatenation. Multidimensional lists are possible but lack built-in support for mathematical operations.\n",
        "\n",
        "- **Memory Efficiency:-**\n",
        "\n",
        " - NumPy Arrays: Use less memory due to homogeneous data types and compact storage (no pointer overhead).\n",
        "\n",
        " - Python Lists:- Consume more memory because each element is a Python object with associated metadata.\n",
        "\n",
        "- **Size Mutability:-**\n",
        "\n",
        "   - NumPy Arrays: Have a fixed size upon creation. Resizing (e.g., via np.resize) creates a new array.\n",
        "\n",
        "   - Python Lists: Dynamic and mutable, allowing easy appending or removal of elements.\n",
        "\n",
        "- **Ease of Use:-**\n",
        "\n",
        "  - NumPy Arrays: Require familiarity with the NumPy library but simplify complex numerical tasks.\n",
        "\n",
        "  - Python Lists: More intuitive for general-purpose programming and simpler tasks.\n",
        "\n",
        "Q7. **What is a heatmap, and when should it be used?**\n",
        "  - A heatmap is a data visualization technique that represents information using colors to depict the intensity or magnitude of values in a two-dimensional matrix. In essence, it provides a quick, intuitive way to analyze complex data by highlighting patterns, correlations, or trends.\n",
        "  \n",
        " ### **When to use a heatmap:-**\n",
        " - **Identifying patterns:-** Use heatmaps to detect relationships or clusters in datasets, such as customer preferences or website user behavior.\n",
        "- **Highlighting intensity:-** Perfect for visualizing data density—e.g., tracking foot traffic in stores or visitor activity on a webpage.\n",
        "- **Comparing data values:-** To easily compare metrics across categories, such as sales by region or performance by department.\n",
        "- **Correlation analysis:-** Often used in statistics or machine learning to visualize correlations between variables in datasets.\n",
        "\n",
        "     Heatmaps are widely used in various fields like marketing, finance, biology, UX design, and more.\n",
        "\n",
        "\n"
      ],
      "metadata": {
        "id": "6db8rnrlG83f"
      }
    },
    {
      "cell_type": "markdown",
      "source": [
        "Q8.**What does the term “vectorized operation” mean in NumPy?**\n",
        " - In NumPy, a **vectorized operation refers** to performing operations on entire arrays at once, rather than iterating over individual elements. This approach takes advantage of optimized C and Fortran libraries, making computations faster and more efficient compared to traditional Python loops.\n"
      ],
      "metadata": {
        "id": "zRJhzratKgY-"
      }
    },
    {
      "cell_type": "code",
      "source": [
        "#Example:-\n",
        "import numpy as np\n",
        "\n",
        "# Regular Python loop\n",
        "a = [1, 2, 3, 4]\n",
        "b = [2*x for x in a]  # Multiply each element by 2\n",
        "\n",
        "# Vectorized NumPy operation\n",
        "arr = np.array([1, 2, 3, 4])\n",
        "result = arr * 2  # NumPy does this in one step!\n",
        "\n",
        "print(result)"
      ],
      "metadata": {
        "id": "eapwSvOCGxke",
        "colab": {
          "base_uri": "https://localhost:8080/"
        },
        "outputId": "85c1bc23-2115-4ab4-fb50-bebec88f7b15"
      },
      "execution_count": null,
      "outputs": [
        {
          "output_type": "stream",
          "name": "stdout",
          "text": [
            "[2 4 6 8]\n"
          ]
        }
      ]
    },
    {
      "cell_type": "markdown",
      "source": [
        "Here, the NumPy array arr * 2 is automatically applied to all elements without using explicit loops. This is not only more readable but also significantly faster, especially for large datasets.\n",
        "\n",
        "Q9. **How does Matplotlib differ from Plotly?**\n",
        "  - Matplotlib and Plotly are both popular Python libraries for data visualization, but they differ in several key aspects:-\n",
        "\n",
        "1. # **Output Type**\n",
        "  - **Matplotlib:-** Primarily generates static plots (e.g., PNG, SVG, PDF). It’s ideal for creating publication-quality figures or embedding in reports.\n",
        "  - **Plotly:-** Produces interactive, web-based visualizations by default, which can be viewed in browsers, Jupyter notebooks, or exported as HTML. It also supports static exports (e.g., PNG, JPEG).\n",
        "2. # **Interactivity**\n",
        "  - **Matplotlib:-** Limited interactivity. Basic zoom/pan features are available in some backends (e.g., Jupyter), but advanced interactivity requires additional libraries like mplcursors or custom code.\n",
        "  - **Plotly:-** Highly interactive out of the box, with features like hover tooltips, zoom, pan, click events, and dynamic updates without extra effort.\n",
        "3. # **Ease of Use**\n",
        "  - **Matplotlib:-** Offers fine-grained control over plot elements (axes, lines, text, etc.), but this can make simple plots verbose and complex to customize.\n",
        "  - **Plotly:-** Higher-level API (especially with plotly.express) makes it easier to create complex, interactive plots with less code. However, deep customization may require learning Plotly’s structure.\n",
        "4. # **Performance**\n",
        "  - **Matplotlib:-** Better for rendering large datasets or many plots quickly, as it doesn’t rely on web technologies. It’s optimized for static rendering.\n",
        "  - **Plotly:-** Can be slower for very large datasets due to its JavaScript-based rendering, especially in browsers. Plotly’s graph_objects can be optimized, but it’s generally heavier.\n",
        "5. # **Deployment**\n",
        "  - **Matplotlib:-** Best for offline use, embedded in Python applications, or static outputs like papers and presentations.\n",
        "  - **Plotly:-** Excels in web-based dashboards, online sharing (via Plotly’s cloud or Dash), and collaborative environments.\n",
        "6. # **Customization**\n",
        "  - **Matplotlib:-** Extremely customizable, with control over every aspect of a plot (e.g., line styles, fonts, grids). However, this often requires more code.\n",
        "  - **Plotly:-** Customizable, but its structure (based on JSON-like objects) can feel less intuitive for advanced tweaks compared to Matplotlib’s procedural approach.\n",
        "7. # **Community and Ecosystem**\n",
        "  - **Matplotlib:-** Older, widely used in scientific communities, with extensive documentation and integration with libraries like NumPy, Pandas, and Seaborn.\n",
        "  - **Plotly:-** Newer, with a growing ecosystem, especially for web-based tools. Integrates well with Dash for building interactive dashboards.\n",
        "8. # **Dependencies**\n",
        "  - **Matplotlib:-** Lightweight, with minimal dependencies (NumPy, etc.). Works offline.\n",
        "  - **Plotly:-** Heavier, as it relies on JavaScript and web technologies. Requires internet access for some features (e.g., Plotly’s online chart studio, though offline mode is supported).\n",
        "  # Summary\n",
        "Use Matplotlib for static, highly customized, publication-quality plots or when working offline with large datasets.\n",
        "Use Plotly for interactive, web-based visualizations, quick prototyping, or dashboards.\n",
        "\n",
        "Q10. **What is the significance of hierarchical indexing in Pandas?**\n",
        "  - Hierarchical indexing in Pandas is a powerful feature that allows for multiple levels of index labels on a DataFrame or Series, enabling more flexible data organization and retrieval.\n",
        "  # Here’s why it’s significant:-\n",
        "- **Efficient Data Organization:-** It helps in handling complex datasets where multiple indexing levels are needed, such as time series data, multi-dimensional data, or grouped statistics.\n",
        "- **Easy Data Access:-** With hierarchical indexing, you can access subsets of data more intuitively using multiple index levels rather than filtering with multiple conditions.\n",
        "- **Enhanced Grouping and Aggregation:-** It facilitates operations like grouping, reshaping, and aggregating data efficiently, making analysis more convenient.\n",
        "- **Improved Performance:-** When working with large datasets, hierarchical indexing can improve performance by optimizing lookup operations.\n",
        "\n",
        "     For instance, if you have sales data indexed by both Region and Month, hierarchical indexing allows easy navigation and manipulation without needing additional columns.\n"
      ],
      "metadata": {
        "id": "K7lbWYK-NumE"
      }
    },
    {
      "cell_type": "markdown",
      "source": [
        "Q11. **A What is the role of Seaborn’s pairplot() function?**\n",
        "  - **Seaborn’s pairplot() function** is a convenient way to visualize relationships between variables in a dataset through pairwise scatter plots. Here’s why it’s useful:\n",
        "- **Multi-variable Exploration:-** It generates a grid of scatter plots for each pair of numerical variables, helping to spot correlations or trends.\n",
        "- **Quick Overview of Data:-** Ideal for initial data exploration, especially when dealing with high-dimensional data.\n",
        "- **Histogram for Self-Comparison:-** Diagonal plots show histograms (or KDE plots) of individual variables for quick distribution insights.\n",
        "- **Customization Options:-** Allows adjustments like color mapping (hue), specifying marker styles, or selecting certain variables.\n",
        "\n",
        "Q12. **A What is the purpose of the describe() function in Pandas?**\n",
        "  - **The describe() function** in Pandas is used to generate summary statistics of a DataFrame or Series, providing a quick overview of numerical data. Here's why it's useful:\n",
        "- **Statistical Insights:-** It returns key statistical measures such as count, mean, standard deviation, min, max, and quartiles.\n",
        "- **Quick Data Overview:-** Helps understand the distribution and central tendencies of numerical features without manual computation.\n",
        "- **Identifying Anomalies:-** Can reveal missing values, extreme values, and variations in data.\n",
        "- **Supports Customization:-** You can apply it to specific columns and even include categorical data using include='all'.\n",
        "\n",
        "Q13. **A Why is handling missing data important in Pandas?**\n",
        "  - Handling missing data in Pandas is crucial for maintaining data integrity and ensuring accurate analysis.\n",
        "  # Imortance:-\n",
        "- **Preserves Data Quality:-** Missing values can distort analysis results and lead to incorrect conclusions.\n",
        "- **Avoids Errors in Computations:-** Some operations may fail or produce misleading outputs if missing data isn’t handled properly.\n",
        "- **Improves Machine Learning Models:-** Many models don’t handle missing values well, so preprocessing data ensures better training and predictions.\n",
        "- **Allows Informed Decision-Making:-** Proper treatment of missing values helps determine whether to impute, drop, or analyze missing patterns for better insights.\n",
        "\n",
        "Common techniques to handle missing data in Pandas include using .dropna() to remove missing values, .fillna() for imputation, and .isna() to identify missing entries.\n",
        "\n",
        "Q14. **What are the benefits of using Plotly for data visualization?**\n",
        "  - Plotly is a powerful and versatile data visualization library that offers several benefits:-\n",
        "\n",
        "1. **Interactive Visualizations** – Unlike static charts, Plotly creates highly interactive graphs with features like zooming, panning, and hovering for detailed insights.\n",
        "2. **Wide Range of Charts** – It supports various visualization types, including scatter plots, bar charts, line graphs, heatmaps, and even 3D plots.\n",
        "3. **Cross-Platform Compatibility** – Works seamlessly in Python, R, and JavaScript, making it highly accessible across different programming environments.\n",
        "4. **Publication-Quality Graphics** – Produces visually appealing and high-resolution plots that are suitable for presentations and reports.\n",
        "5. **Integration with Dash** – Plotly integrates with Dash, enabling the creation of interactive web applications for data analysis.\n",
        "6. **Open-Source and Free** – While there is a commercial version, the open-source library provides extensive functionality without cost.\n",
        "\n",
        "Q15.**A How does NumPy handle multidimensional arrays?**\n",
        "  - NumPy handles multidimensional arrays efficiently using its *ndarray* (N-dimensional array) object.\n",
        "  \n",
        "  # Here’s how it manages them:-\n",
        "\n",
        " 1. **Efficient Storage** – NumPy arrays are stored in contiguous memory, enabling fast computation and efficient memory usage.\n",
        " 2. **Shape & Dimension Handling** – The .shape attribute provides the dimensions of an array, and .ndim reveals how many dimensions it has.\n",
        " 3. **Element-wise Operations** – Supports vectorized operations that apply functions to all elements simultaneously, improving performance over traditional loops.\n",
        " 4. **Indexing & Slicing** – Allows flexible access using slicing and indexing techniques, including advanced indexing like boolean and fancy indexing.\n",
        " 5. **Broadcasting** – Automatically expands smaller arrays to match larger ones for arithmetic operations, eliminating the need for explicit loops.\n",
        " 6. **Reshaping & Transposing** – Functions like .reshape() and .transpose() modify array structures dynamically.\n",
        " 7. **Integration with Other Libraries** – Works seamlessly with libraries like SciPy and Pandas for numerical and data analysis tasks.\n",
        "\n",
        "Q16. **What is the role of Bokeh in data visualization?**\n",
        "  - Bokeh plays a powerful role in data visualization, especially when it comes to creating interactive and visually appealing graphics for web applications. It’s a Python library designed for producing elegant and highly customizable plots.\n",
        "\n",
        "   # Role of Bokeh in data visualization:-\n",
        "   - **Interactive Visualizations**:- Unlike static charts, Bokeh lets users zoom, pan, and hover over data points for deeper exploration.\n",
        "   - **Web-Friendly Output**:- It can generate interactive plots as standalone HTML documents or embed them into web applications.\n",
        "   - **High-Level & Low-Level Interfaces**:- Users can quickly create simple plots using the high-level interface or build custom visualizations with fine-grained control using lower-level tools.\n",
        "   - **Efficient Handling of Large Datasets**:- Bokeh efficiently renders large data sets, making it suitable for big data applications.\n",
        "\n",
        "Q17. **A Explain the difference between apply() and map() in Pandas?**\n",
        "  - In Pandas, both apply() and map() are used for applying functions to data, but they have distinct differences in functionality and scope:\n",
        "\n",
        "   # **map()**\n",
        "- Used specifically with *Series* (one-dimensional data).\n",
        "- Applies a function element-wise to each value in the Series.\n",
        "- Can take a function, a dictionary (for mapping specific values), or a Series.\n",
        "\n"
      ],
      "metadata": {
        "id": "OWW2H2d_UX4j"
      }
    },
    {
      "cell_type": "code",
      "source": [
        "#Example:-\n",
        "import pandas as pd\n",
        "data = pd.Series([1, 2, 3, 4, 5])\n",
        "squared = data.map(lambda x: x**2)\n",
        "print(squared)"
      ],
      "metadata": {
        "colab": {
          "base_uri": "https://localhost:8080/"
        },
        "id": "fjDeSBvWNjPw",
        "outputId": "2d8e7699-395a-433e-f469-092fbc6472bb"
      },
      "execution_count": null,
      "outputs": [
        {
          "output_type": "stream",
          "name": "stdout",
          "text": [
            "0     1\n",
            "1     4\n",
            "2     9\n",
            "3    16\n",
            "4    25\n",
            "dtype: int64\n"
          ]
        }
      ]
    },
    {
      "cell_type": "markdown",
      "source": [
        "   #  **apply()**\n",
        "  -  Works on both *DataFrame* and *Series*.\n",
        "  - Can be used for row-wise or column-wise operations on a DataFrame.\n",
        "  - More flexible, as it can handle complex operations."
      ],
      "metadata": {
        "id": "vU1yxBdehrzL"
      }
    },
    {
      "cell_type": "code",
      "source": [
        "# Example (applying a function to a DataFrame column):-\n",
        "import pandas as pd\n",
        "df = pd.DataFrame({'A': [1, 2, 3, 4], 'B': [5, 6, 7, 8]})\n",
        "df['A_squared'] = df['A'].apply(lambda x: x**2)\n",
        "print(df)"
      ],
      "metadata": {
        "colab": {
          "base_uri": "https://localhost:8080/"
        },
        "id": "Q2bov84lhagq",
        "outputId": "e95f7fd3-c6c4-4b76-dbe1-1f709c84a4d8"
      },
      "execution_count": null,
      "outputs": [
        {
          "output_type": "stream",
          "name": "stdout",
          "text": [
            "   A  B  A_squared\n",
            "0  1  5          1\n",
            "1  2  6          4\n",
            "2  3  7          9\n",
            "3  4  8         16\n"
          ]
        }
      ]
    },
    {
      "cell_type": "markdown",
      "source": [
        " # *Key Difference*\n",
        "- *Use map()* when working with *Series* and when the transformation is straightforward.\n",
        "- *Use apply()* when working with *DataFrames* or when more complex operations are required.\n",
        "\n",
        "Q18.  **What are some advanced features of NumPy?**\n",
        "  - NumPy offers a wealth of advanced features that make it a powerhouse for numerical computing in Python.\n",
        "  \n",
        " # Here are some standout capabilities:-\n",
        " - **Broadcasting:-** Enables operations between arrays of different shapes without explicit looping, optimizing performance.\n",
        "- **Vectorized Operations:-** Allows fast element-wise computations using optimized C-based routines, avoiding Python loops.\n",
        "- **Universal Functions (ufuncs):-** Provide efficient element-wise operations on arrays, including mathematical and logical functions.\n",
        "- **Masked Arrays:-** Allow handling missing or invalid data points without affecting computations.\n",
        "- **Structured Arrays:-** Enable storage of heterogeneous data types within a single array, similar to database tables.\n",
        "- **Fast Linear Algebra Operations:-** Includes optimized routines for matrix decompositions (e.g., eigenvalues, singular value decomposition).\n",
        "- **Fourier Transform Capabilities:-** Supports fast Fourier transform (FFT) for signal processing and analysis.\n",
        "- **Random Sampling:-** Offers advanced random number generation with customizable distributions.\n",
        "- **Memory Mapping:-** Allows efficient access to large datasets stored on disk without loading them entirely into memory.\n",
        "- **Advanced Indexing & Slicing:-** Enables flexible selections, filtering, and reshaping of data efficiently.\n",
        "\n",
        "Q19. **How does Pandas simplify time series analysis?**\n",
        "  - Pandas makes time series analysis significantly more manageable by providing powerful tools for handling, manipulating, and analyzing date-time data.\n",
        "  # Here’s how it simplifies the process:-\n",
        "- **Datetime Indexing:-** Pandas lets you convert columns into datetime format and set them as an index, enabling time-aware operations.\n",
        "- **Resampling & Frequency Conversion:** With .resample(), you can easily aggregate data at different time intervals—daily, weekly, monthly, etc.\n",
        "- **Rolling & Expanding Windows:-** Functions like .rolling() allow moving-window calculations for trends, smoothing, and statistical analysis.\n",
        "- **Shift & Lag Analysis:-** Using .shift(), you can create lag features or align time series for comparisons.\n",
        "- **Handling Missing Data:-** Pandas offers easy ways to interpolate or forward-fill missing time-dependent data.\n",
        "- **Time Zone Awareness:-** Built-in support for time zone conversion makes working with global datasets much simpler.\n",
        "- **Built-in Time Series Functions:-** Statistical operations like autocorrelation, detrending, and seasonal decomposition are streamlined.\n",
        "\n",
        "Q20. **What is the role of a pivot table in Pandas?**\n",
        "  - In Pandas, a pivot table is a powerful tool for summarizing and analyzing data efficiently. It allows you to transform and aggregate data to extract meaningful insights.\n",
        " # Role of pivot Table in Pandas:-\n",
        "- **Reshapes Data:-** Pivot tables reorganize data by setting specific columns as indexes and grouping information in a more structured format.\n",
        "- **Aggregates Values:-** You can compute various statistics, such as sums, averages, counts, or custom functions on grouped data.\n",
        "- **Handles Missing Data:-** It can automatically fill missing values or exclude them from calculations.\n",
        "- **Enables Multi-Level Indexing:-** You can group data hierarchically for deeper analysis.\n",
        "- **Simplifies Reporting:-** Pivot tables make it easy to generate concise, structured summaries for visualization or decision-making.\n",
        "\n",
        "Q21.**A Why is NumPy’s array slicing faster than Python’s list slicing?**\n",
        "  - NumPy's array slicing is significantly faster than Python's list slicing because NumPy arrays are implemented in C and optimized for numerical computations.\n",
        "  # Here’s why:-\n",
        "\n",
        "1. **Memory Efficiency:-** NumPy arrays are stored as a contiguous block in memory, whereas Python lists store references to objects scattered throughout memory. This allows NumPy to access elements much faster.\n",
        "\n",
        "2. **Vectorized Operations:-** NumPy uses optimized, low-level operations written in C, avoiding the overhead of Python loops.\n",
        "\n",
        "3. **Data Type Homogeneity:-** NumPy arrays have a fixed type, allowing efficient memory layout and access, while lists can store different types, leading to additional processing overhead.\n",
        "\n",
        "4. **Optimized Slicing Mechanism:-** Slicing a NumPy array returns a view of the original data (without copying), whereas slicing a Python list creates a new list (which takes extra time).\n",
        "\n",
        "Q22. **What are some common use cases for Seaborn?**\n",
        "  - Seaborn is a powerful Python library for data visualization, built on top of Matplotlib. It's widely used in data analysis and scientific research.\n",
        "  \n",
        "  # Some common use cases:-\n",
        "- **Exploratory Data Analysis (EDA):-** Helps visualize relationships in datasets, detect patterns, and identify anomalies.\n",
        "- **Statistical Visualization:-** Supports visualizing distributions, correlations, and regression models.\n",
        "- **Time Series Analysis:-** Great for plotting trends and changes over time.\n",
        "- Categorical Data Representation: Useful for creating bar plots, violin plots, and swarm plots.\n",
        "- **Heatmaps:-** Often used for correlation matrices and clustering data.\n",
        "- **Multivariate Data Visualization:-** Allows complex relationships to be represented using scatterplots, pairplots, or facet grids.\n",
        "\n",
        "\n",
        "\n",
        "\n",
        "\n",
        "\n",
        "\n",
        "\n"
      ],
      "metadata": {
        "id": "F73rrlJaiyeD"
      }
    },
    {
      "cell_type": "markdown",
      "source": [
        " # Practical Questions\n",
        "\n",
        " Q1.**A How do you create a 2D NumPy array and calculate the sum of each row?**\n",
        "  -"
      ],
      "metadata": {
        "id": "eh_rJj_fout9"
      }
    },
    {
      "cell_type": "code",
      "source": [
        "import numpy as np\n",
        "\n",
        "# Creating a 2D NumPy array\n",
        "array = np.array([[1, 2, 3],\n",
        "                  [4, 5, 6],\n",
        "                  [7, 8, 9]])\n",
        "\n",
        "# Calculating the sum of each row\n",
        "row_sums = np.sum(array, axis=1)\n",
        "\n",
        "print(\"2D Array:\\n\", array)\n",
        "print(\"Sum of each row:\", row_sums)"
      ],
      "metadata": {
        "colab": {
          "base_uri": "https://localhost:8080/"
        },
        "id": "4qjMNlj8isBD",
        "outputId": "1c9cb592-3503-4dc9-bcac-3472e27d7a3f"
      },
      "execution_count": null,
      "outputs": [
        {
          "output_type": "stream",
          "name": "stdout",
          "text": [
            "2D Array:\n",
            " [[1 2 3]\n",
            " [4 5 6]\n",
            " [7 8 9]]\n",
            "Sum of each row: [ 6 15 24]\n"
          ]
        }
      ]
    },
    {
      "cell_type": "markdown",
      "source": [
        "Q2.**Write a Pandas script to find the mean of a specific column in a DataFrame.**"
      ],
      "metadata": {
        "id": "QTafgoN8pYBl"
      }
    },
    {
      "cell_type": "code",
      "source": [
        "import pandas as pd\n",
        "\n",
        "# Sample DataFrame\n",
        "data = {'A': [10, 20, 30, 40, 50], 'B': [5, 22, 29, 35, 45]}\n",
        "df = pd.DataFrame(data)\n",
        "\n",
        "column1= 'A'\n",
        "\n",
        "# Calculate the mean\n",
        "mean_value = df[column1].mean()\n",
        "\n",
        "\n",
        "print(f\"The mean of column '{column1}' is: {mean_value}\")"
      ],
      "metadata": {
        "id": "yoRJrSk-pkUT",
        "colab": {
          "base_uri": "https://localhost:8080/"
        },
        "outputId": "96fe0ace-1669-4d6a-b7a6-0feb027d69de"
      },
      "execution_count": null,
      "outputs": [
        {
          "output_type": "stream",
          "name": "stdout",
          "text": [
            "The mean of column 'A' is: 30.0\n"
          ]
        }
      ]
    },
    {
      "cell_type": "markdown",
      "source": [
        "Q3. **Create a scatter plot using Matplotlib?**"
      ],
      "metadata": {
        "id": "Om6WT4Y2r0oE"
      }
    },
    {
      "cell_type": "code",
      "source": [
        "import matplotlib.pyplot as plt\n",
        "\n",
        "# Sample data\n",
        "x = [1, 2, 3, 4, 5]\n",
        "y = [10, 20, 25, 30, 40]\n",
        "\n",
        "# Create scatter plot\n",
        "plt.scatter(x, y, color='blue', marker='o', label='Data Points')\n",
        "\n",
        "# Add labels and title\n",
        "plt.xlabel('X Axis')\n",
        "plt.ylabel('Y Axis')\n",
        "plt.title('Simple Scatter Plot')\n",
        "\n",
        "# Show legend\n",
        "plt.legend()\n",
        "\n",
        "# Display plot\n",
        "plt.show()"
      ],
      "metadata": {
        "colab": {
          "base_uri": "https://localhost:8080/",
          "height": 472
        },
        "id": "itfM5gUdqq7H",
        "outputId": "2310e4f9-945a-4ccb-cfb4-e209ee5ab4ad"
      },
      "execution_count": null,
      "outputs": [
        {
          "output_type": "display_data",
          "data": {
            "text/plain": [
              "<Figure size 640x480 with 1 Axes>"
            ],
            "image/png": "[encoded data removed]"
          },
          "metadata": {}
        }
      ]
    },
    {
      "cell_type": "markdown",
      "source": [
        "Q4. **How do you calculate the correlation matrix using Seaborn and visualize it with a heatmap?**"
      ],
      "metadata": {
        "id": "g_GwWn25tBzR"
      }
    },
    {
      "cell_type": "code",
      "source": [
        "import pandas as pd\n",
        "import seaborn as sns\n",
        "import matplotlib.pyplot as plt\n",
        "\n",
        "# Sample DataFrame\n",
        "data = {\n",
        "    'A': [1, 2, 3, 4, 5],\n",
        "    'B': [2, 3, 4, 5, 6],\n",
        "    'C': [5, 3, 1, 6, 8]\n",
        "}\n",
        "df = pd.DataFrame(data)\n",
        "\n",
        "# Compute correlation matrix\n",
        "corr_matrix = df.corr()\n",
        "\n",
        "# Plot heatmap\n",
        "plt.figure(figsize=(8, 6))\n",
        "sns.heatmap(corr_matrix, annot=True, cmap='coolwarm', fmt='.2f')\n",
        "plt.title(\"Correlation Matrix Heatmap\")\n",
        "plt.show()"
      ],
      "metadata": {
        "colab": {
          "base_uri": "https://localhost:8080/",
          "height": 545
        },
        "id": "eN7Y7ePGshz2",
        "outputId": "b428c81f-4116-4f06-8047-2fc7123f6975"
      },
      "execution_count": null,
      "outputs": [
        {
          "output_type": "display_data",
          "data": {
            "text/plain": [
              "<Figure size 800x600 with 2 Axes>"
            ],
            "image/png": "[encoded data removed]"
          },
          "metadata": {}
        }
      ]
    },
    {
      "cell_type": "markdown",
      "source": [
        "Q5.  Generate a bar plot using Plotly."
      ],
      "metadata": {
        "id": "HyMNCc36ufaZ"
      }
    },
    {
      "cell_type": "code",
      "source": [
        "import plotly.express as px\n",
        "\n",
        "# Sample data\n",
        "data = {'Category': ['A', 'B', 'C', 'D'],\n",
        "        'Values': [10, 15, 7, 12]}\n",
        "\n",
        "# Create a bar plot\n",
        "fig = px.bar(data, x='Category', y='Values', title=\"Bar Plot Example\")\n",
        "\n",
        "# Show the plot\n",
        "fig.show()"
      ],
      "metadata": {
        "colab": {
          "base_uri": "https://localhost:8080/",
          "height": 542
        },
        "id": "qvYLhSMZuXqP",
        "outputId": "e95ecf11-7fb7-46c6-e76a-fac454b65b7e"
      },
      "execution_count": null,
      "outputs": [
        {
          "output_type": "display_data",
          "data": {
            "text/html": [
              "<html>\n",
              "<head><meta charset=\"utf-8\" /></head>\n",
              "<body>\n",
              "    <div>            <script src=\"https://cdnjs.cloudflare.com/ajax/libs/mathjax/2.7.5/MathJax.js?config=TeX-AMS-MML_SVG\"></script><script type=\"text/javascript\">if (window.MathJax && window.MathJax.Hub && window.MathJax.Hub.Config) {window.MathJax.Hub.Config({SVG: {font: \"STIX-Web\"}});}</script>                <script type=\"text/javascript\">window.PlotlyConfig = {MathJaxConfig: 'local'};</script>\n",
              "        <script charset=\"utf-8\" src=\"https://cdn.plot.ly/plotly-2.35.2.min.js\"></script>                <div id=\"9e2c386c-f471-40e7-a76d-f89544ccc496\" class=\"plotly-graph-div\" style=\"height:525px; width:100%;\"></div>            <script type=\"text/javascript\">                                    window.PLOTLYENV=window.PLOTLYENV || {};                                    if (document.getElementById(\"9e2c386c-f471-40e7-a76d-f89544ccc496\")) {                    Plotly.newPlot(                        \"9e2c386c-f471-40e7-a76d-f89544ccc496\",                        [{\"alignmentgroup\":\"True\",\"hovertemplate\":\"Category=%{x}\\u003cbr\\u003eValues=%{y}\\u003cextra\\u003e\\u003c\\u002fextra\\u003e\",\"legendgroup\":\"\",\"marker\":{\"color\":\"#636efa\",\"pattern\":{\"shape\":\"\"}},\"name\":\"\",\"offsetgroup\":\"\",\"orientation\":\"v\",\"showlegend\":false,\"textposition\":\"auto\",\"x\":[\"A\",\"B\",\"C\",\"D\"],\"xaxis\":\"x\",\"y\":[10,15,7,12],\"yaxis\":\"y\",\"type\":\"bar\"}],                        {\"template\":{\"data\":{\"histogram2dcontour\":[{\"type\":\"histogram2dcontour\",\"colorbar\":{\"outlinewidth\":0,\"ticks\":\"\"},\"colorscale\":[[0.0,\"#0d0887\"],[0.1111111111111111,\"#46039f\"],[0.2222222222222222,\"#7201a8\"],[0.3333333333333333,\"#9c179e\"],[0.4444444444444444,\"#bd3786\"],[0.5555555555555556,\"#d8576b\"],[0.6666666666666666,\"#ed7953\"],[0.7777777777777778,\"#fb9f3a\"],[0.8888888888888888,\"#fdca26\"],[1.0,\"#f0f921\"]]}],\"choropleth\":[{\"type\":\"choropleth\",\"colorbar\":{\"outlinewidth\":0,\"ticks\":\"\"}}],\"histogram2d\":[{\"type\":\"histogram2d\",\"colorbar\":{\"outlinewidth\":0,\"ticks\":\"\"},\"colorscale\":[[0.0,\"#0d0887\"],[0.1111111111111111,\"#46039f\"],[0.2222222222222222,\"#7201a8\"],[0.3333333333333333,\"#9c179e\"],[0.4444444444444444,\"#bd3786\"],[0.5555555555555556,\"#d8576b\"],[0.6666666666666666,\"#ed7953\"],[0.7777777777777778,\"#fb9f3a\"],[0.8888888888888888,\"#fdca26\"],[1.0,\"#f0f921\"]]}],\"heatmap\":[{\"type\":\"heatmap\",\"colorbar\":{\"outlinewidth\":0,\"ticks\":\"\"},\"colorscale\":[[0.0,\"#0d0887\"],[0.1111111111111111,\"#46039f\"],[0.2222222222222222,\"#7201a8\"],[0.3333333333333333,\"#9c179e\"],[0.4444444444444444,\"#bd3786\"],[0.5555555555555556,\"#d8576b\"],[0.6666666666666666,\"#ed7953\"],[0.7777777777777778,\"#fb9f3a\"],[0.8888888888888888,\"#fdca26\"],[1.0,\"#f0f921\"]]}],\"heatmapgl\":[{\"type\":\"heatmapgl\",\"colorbar\":{\"outlinewidth\":0,\"ticks\":\"\"},\"colorscale\":[[0.0,\"#0d0887\"],[0.1111111111111111,\"#46039f\"],[0.2222222222222222,\"#7201a8\"],[0.3333333333333333,\"#9c179e\"],[0.4444444444444444,\"#bd3786\"],[0.5555555555555556,\"#d8576b\"],[0.6666666666666666,\"#ed7953\"],[0.7777777777777778,\"#fb9f3a\"],[0.8888888888888888,\"#fdca26\"],[1.0,\"#f0f921\"]]}],\"contourcarpet\":[{\"type\":\"contourcarpet\",\"colorbar\":{\"outlinewidth\":0,\"ticks\":\"\"}}],\"contour\":[{\"type\":\"contour\",\"colorbar\":{\"outlinewidth\":0,\"ticks\":\"\"},\"colorscale\":[[0.0,\"#0d0887\"],[0.1111111111111111,\"#46039f\"],[0.2222222222222222,\"#7201a8\"],[0.3333333333333333,\"#9c179e\"],[0.4444444444444444,\"#bd3786\"],[0.5555555555555556,\"#d8576b\"],[0.6666666666666666,\"#ed7953\"],[0.7777777777777778,\"#fb9f3a\"],[0.8888888888888888,\"#fdca26\"],[1.0,\"#f0f921\"]]}],\"surface\":[{\"type\":\"surface\",\"colorbar\":{\"outlinewidth\":0,\"ticks\":\"\"},\"colorscale\":[[0.0,\"#0d0887\"],[0.1111111111111111,\"#46039f\"],[0.2222222222222222,\"#7201a8\"],[0.3333333333333333,\"#9c179e\"],[0.4444444444444444,\"#bd3786\"],[0.5555555555555556,\"#d8576b\"],[0.6666666666666666,\"#ed7953\"],[0.7777777777777778,\"#fb9f3a\"],[0.8888888888888888,\"#fdca26\"],[1.0,\"#f0f921\"]]}],\"mesh3d\":[{\"type\":\"mesh3d\",\"colorbar\":{\"outlinewidth\":0,\"ticks\":\"\"}}],\"scatter\":[{\"fillpattern\":{\"fillmode\":\"overlay\",\"size\":10,\"solidity\":0.2},\"type\":\"scatter\"}],\"parcoords\":[{\"type\":\"parcoords\",\"line\":{\"colorbar\":{\"outlinewidth\":0,\"ticks\":\"\"}}}],\"scatterpolargl\":[{\"type\":\"scatterpolargl\",\"marker\":{\"colorbar\":{\"outlinewidth\":0,\"ticks\":\"\"}}}],\"bar\":[{\"error_x\":{\"color\":\"#2a3f5f\"},\"error_y\":{\"color\":\"#2a3f5f\"},\"marker\":{\"line\":{\"color\":\"#E5ECF6\",\"width\":0.5},\"pattern\":{\"fillmode\":\"overlay\",\"size\":10,\"solidity\":0.2}},\"type\":\"bar\"}],\"scattergeo\":[{\"type\":\"scattergeo\",\"marker\":{\"colorbar\":{\"outlinewidth\":0,\"ticks\":\"\"}}}],\"scatterpolar\":[{\"type\":\"scatterpolar\",\"marker\":{\"colorbar\":{\"outlinewidth\":0,\"ticks\":\"\"}}}],\"histogram\":[{\"marker\":{\"pattern\":{\"fillmode\":\"overlay\",\"size\":10,\"solidity\":0.2}},\"type\":\"histogram\"}],\"scattergl\":[{\"type\":\"scattergl\",\"marker\":{\"colorbar\":{\"outlinewidth\":0,\"ticks\":\"\"}}}],\"scatter3d\":[{\"type\":\"scatter3d\",\"line\":{\"colorbar\":{\"outlinewidth\":0,\"ticks\":\"\"}},\"marker\":{\"colorbar\":{\"outlinewidth\":0,\"ticks\":\"\"}}}],\"scattermapbox\":[{\"type\":\"scattermapbox\",\"marker\":{\"colorbar\":{\"outlinewidth\":0,\"ticks\":\"\"}}}],\"scatterternary\":[{\"type\":\"scatterternary\",\"marker\":{\"colorbar\":{\"outlinewidth\":0,\"ticks\":\"\"}}}],\"scattercarpet\":[{\"type\":\"scattercarpet\",\"marker\":{\"colorbar\":{\"outlinewidth\":0,\"ticks\":\"\"}}}],\"carpet\":[{\"aaxis\":{\"endlinecolor\":\"#2a3f5f\",\"gridcolor\":\"white\",\"linecolor\":\"white\",\"minorgridcolor\":\"white\",\"startlinecolor\":\"#2a3f5f\"},\"baxis\":{\"endlinecolor\":\"#2a3f5f\",\"gridcolor\":\"white\",\"linecolor\":\"white\",\"minorgridcolor\":\"white\",\"startlinecolor\":\"#2a3f5f\"},\"type\":\"carpet\"}],\"table\":[{\"cells\":{\"fill\":{\"color\":\"#EBF0F8\"},\"line\":{\"color\":\"white\"}},\"header\":{\"fill\":{\"color\":\"#C8D4E3\"},\"line\":{\"color\":\"white\"}},\"type\":\"table\"}],\"barpolar\":[{\"marker\":{\"line\":{\"color\":\"#E5ECF6\",\"width\":0.5},\"pattern\":{\"fillmode\":\"overlay\",\"size\":10,\"solidity\":0.2}},\"type\":\"barpolar\"}],\"pie\":[{\"automargin\":true,\"type\":\"pie\"}]},\"layout\":{\"autotypenumbers\":\"strict\",\"colorway\":[\"#636efa\",\"#EF553B\",\"#00cc96\",\"#ab63fa\",\"#FFA15A\",\"#19d3f3\",\"#FF6692\",\"#B6E880\",\"#FF97FF\",\"#FECB52\"],\"font\":{\"color\":\"#2a3f5f\"},\"hovermode\":\"closest\",\"hoverlabel\":{\"align\":\"left\"},\"paper_bgcolor\":\"white\",\"plot_bgcolor\":\"#E5ECF6\",\"polar\":{\"bgcolor\":\"#E5ECF6\",\"angularaxis\":{\"gridcolor\":\"white\",\"linecolor\":\"white\",\"ticks\":\"\"},\"radialaxis\":{\"gridcolor\":\"white\",\"linecolor\":\"white\",\"ticks\":\"\"}},\"ternary\":{\"bgcolor\":\"#E5ECF6\",\"aaxis\":{\"gridcolor\":\"white\",\"linecolor\":\"white\",\"ticks\":\"\"},\"baxis\":{\"gridcolor\":\"white\",\"linecolor\":\"white\",\"ticks\":\"\"},\"caxis\":{\"gridcolor\":\"white\",\"linecolor\":\"white\",\"ticks\":\"\"}},\"coloraxis\":{\"colorbar\":{\"outlinewidth\":0,\"ticks\":\"\"}},\"colorscale\":{\"sequential\":[[0.0,\"#0d0887\"],[0.1111111111111111,\"#46039f\"],[0.2222222222222222,\"#7201a8\"],[0.3333333333333333,\"#9c179e\"],[0.4444444444444444,\"#bd3786\"],[0.5555555555555556,\"#d8576b\"],[0.6666666666666666,\"#ed7953\"],[0.7777777777777778,\"#fb9f3a\"],[0.8888888888888888,\"#fdca26\"],[1.0,\"#f0f921\"]],\"sequentialminus\":[[0.0,\"#0d0887\"],[0.1111111111111111,\"#46039f\"],[0.2222222222222222,\"#7201a8\"],[0.3333333333333333,\"#9c179e\"],[0.4444444444444444,\"#bd3786\"],[0.5555555555555556,\"#d8576b\"],[0.6666666666666666,\"#ed7953\"],[0.7777777777777778,\"#fb9f3a\"],[0.8888888888888888,\"#fdca26\"],[1.0,\"#f0f921\"]],\"diverging\":[[0,\"#8e0152\"],[0.1,\"#c51b7d\"],[0.2,\"#de77ae\"],[0.3,\"#f1b6da\"],[0.4,\"#fde0ef\"],[0.5,\"#f7f7f7\"],[0.6,\"#e6f5d0\"],[0.7,\"#b8e186\"],[0.8,\"#7fbc41\"],[0.9,\"#4d9221\"],[1,\"#276419\"]]},\"xaxis\":{\"gridcolor\":\"white\",\"linecolor\":\"white\",\"ticks\":\"\",\"title\":{\"standoff\":15},\"zerolinecolor\":\"white\",\"automargin\":true,\"zerolinewidth\":2},\"yaxis\":{\"gridcolor\":\"white\",\"linecolor\":\"white\",\"ticks\":\"\",\"title\":{\"standoff\":15},\"zerolinecolor\":\"white\",\"automargin\":true,\"zerolinewidth\":2},\"scene\":{\"xaxis\":{\"backgroundcolor\":\"#E5ECF6\",\"gridcolor\":\"white\",\"linecolor\":\"white\",\"showbackground\":true,\"ticks\":\"\",\"zerolinecolor\":\"white\",\"gridwidth\":2},\"yaxis\":{\"backgroundcolor\":\"#E5ECF6\",\"gridcolor\":\"white\",\"linecolor\":\"white\",\"showbackground\":true,\"ticks\":\"\",\"zerolinecolor\":\"white\",\"gridwidth\":2},\"zaxis\":{\"backgroundcolor\":\"#E5ECF6\",\"gridcolor\":\"white\",\"linecolor\":\"white\",\"showbackground\":true,\"ticks\":\"\",\"zerolinecolor\":\"white\",\"gridwidth\":2}},\"shapedefaults\":{\"line\":{\"color\":\"#2a3f5f\"}},\"annotationdefaults\":{\"arrowcolor\":\"#2a3f5f\",\"arrowhead\":0,\"arrowwidth\":1},\"geo\":{\"bgcolor\":\"white\",\"landcolor\":\"#E5ECF6\",\"subunitcolor\":\"white\",\"showland\":true,\"showlakes\":true,\"lakecolor\":\"white\"},\"title\":{\"x\":0.05},\"mapbox\":{\"style\":\"light\"}}},\"xaxis\":{\"anchor\":\"y\",\"domain\":[0.0,1.0],\"title\":{\"text\":\"Category\"}},\"yaxis\":{\"anchor\":\"x\",\"domain\":[0.0,1.0],\"title\":{\"text\":\"Values\"}},\"legend\":{\"tracegroupgap\":0},\"title\":{\"text\":\"Bar Plot Example\"},\"barmode\":\"relative\"},                        {\"responsive\": true}                    ).then(function(){\n",
              "                            \n",
              "var gd = document.getElementById('9e2c386c-f471-40e7-a76d-f89544ccc496');\n",
              "var x = new MutationObserver(function (mutations, observer) {{\n",
              "        var display = window.getComputedStyle(gd).display;\n",
              "        if (!display || display === 'none') {{\n",
              "            console.log([gd, 'removed!']);\n",
              "            Plotly.purge(gd);\n",
              "            observer.disconnect();\n",
              "        }}\n",
              "}});\n",
              "\n",
              "// Listen for the removal of the full notebook cells\n",
              "var notebookContainer = gd.closest('#notebook-container');\n",
              "if (notebookContainer) {{\n",
              "    x.observe(notebookContainer, {childList: true});\n",
              "}}\n",
              "\n",
              "// Listen for the clearing of the current output cell\n",
              "var outputEl = gd.closest('.output');\n",
              "if (outputEl) {{\n",
              "    x.observe(outputEl, {childList: true});\n",
              "}}\n",
              "\n",
              "                        })                };                            </script>        </div>\n",
              "</body>\n",
              "</html>"
            ]
          },
          "metadata": {}
        }
      ]
    },
    {
      "cell_type": "markdown",
      "source": [
        "Q6.**Create a DataFrame and add a new column based on an existing column?**"
      ],
      "metadata": {
        "id": "snHVh6-Bw5kz"
      }
    },
    {
      "cell_type": "code",
      "source": [
        "import pandas as pd\n",
        "\n",
        "data = {'Name': ['Alice', 'Bob', 'Charlie'],\n",
        "        'Age': [25, 30, 35]}\n",
        "\n",
        "df = pd.DataFrame(data)\n",
        "\n",
        "df['Age in 10 Years'] = df['Age'] + 10\n",
        "\n",
        "print(df)"
      ],
      "metadata": {
        "colab": {
          "base_uri": "https://localhost:8080/"
        },
        "id": "7ShCOhgqwKTD",
        "outputId": "a9a132d5-b67b-44c0-9267-674966525b32"
      },
      "execution_count": null,
      "outputs": [
        {
          "output_type": "stream",
          "name": "stdout",
          "text": [
            "      Name  Age  Age in 10 Years\n",
            "0    Alice   25               35\n",
            "1      Bob   30               40\n",
            "2  Charlie   35               45\n"
          ]
        }
      ]
    },
    {
      "cell_type": "markdown",
      "source": [
        "Q7.**Write a program to perform element-wise multiplication of two NumPy arrays.**"
      ],
      "metadata": {
        "id": "ttuDuGLlyHaL"
      }
    },
    {
      "cell_type": "code",
      "source": [
        "import numpy as np\n",
        "\n",
        "array1 = np.array([1, 2, 3, 4])\n",
        "array2 = np.array([5, 6, 7, 8])\n",
        "\n",
        "# Perform element-wise multiplication\n",
        "result = array1 * array2\n",
        "\n",
        "print(result)"
      ],
      "metadata": {
        "colab": {
          "base_uri": "https://localhost:8080/"
        },
        "id": "6Y0tQc5IxooO",
        "outputId": "5f79133f-30a8-4bec-cd22-d11e37ed81e6"
      },
      "execution_count": null,
      "outputs": [
        {
          "output_type": "stream",
          "name": "stdout",
          "text": [
            "[ 5 12 21 32]\n"
          ]
        }
      ]
    },
    {
      "cell_type": "markdown",
      "source": [
        "Q8.**Create a line plot with multiple lines using Matplotlib.**"
      ],
      "metadata": {
        "id": "riKdAGMDzRXL"
      }
    },
    {
      "cell_type": "code",
      "source": [
        "import matplotlib.pyplot as plt\n",
        "import numpy as np\n",
        "\n",
        "# Sample data\n",
        "x = np.linspace(0, 10, 100)  # Generate 100 points between 0 and 10\n",
        "y1 = np.sin(x)\n",
        "y2 = np.cos(x)\n",
        "y3 = np.tan(x) * 0.2  # Adjusted to prevent extreme values\n",
        "\n",
        "# Create the plot\n",
        "plt.figure(figsize=(8, 6))\n",
        "plt.plot(x, y1, label=\"sin(x)\", linestyle=\"-\", color=\"blue\")\n",
        "plt.plot(x, y2, label=\"cos(x)\", linestyle=\"--\", color=\"green\")\n",
        "plt.plot(x, y3, label=\"tan(x) * 0.2\", linestyle=\":\", color=\"red\")\n",
        "\n",
        "# Add labels and title\n",
        "plt.xlabel(\"X values\")\n",
        "plt.ylabel(\"Y values\")\n",
        "plt.title(\"Line Plot with Multiple Lines\")\n",
        "\n",
        "# Add a legend\n",
        "plt.legend()\n",
        "\n",
        "# Show the plot\n",
        "plt.show()"
      ],
      "metadata": {
        "colab": {
          "base_uri": "https://localhost:8080/",
          "height": 564
        },
        "id": "GwZalJq5yVyS",
        "outputId": "f1321543-0b36-4323-ba7a-af7cd81572ac"
      },
      "execution_count": null,
      "outputs": [
        {
          "output_type": "display_data",
          "data": {
            "text/plain": [
              "<Figure size 800x600 with 1 Axes>"
            ],
            "image/png": "[encoded data removed]"
          },
          "metadata": {}
        }
      ]
    },
    {
      "cell_type": "markdown",
      "source": [
        "Q9.**Generate a Pandas DataFrame and filter rows where a column value is greater than a threshold**."
      ],
      "metadata": {
        "id": "2CjbnzM307nb"
      }
    },
    {
      "cell_type": "code",
      "source": [
        "import pandas as pd\n",
        "\n",
        "# Sample data\n",
        "data = {\n",
        "    \"Name\": [\"Alice\", \"Bob\", \"Charlie\", \"David\", \"Eve\"],\n",
        "    \"Age\": [25, 32, 18, 45, 29],\n",
        "    \"Score\": [90, 85, 70, 88, 95]\n",
        "}\n",
        "\n",
        "# Create DataFrame\n",
        "df = pd.DataFrame(data)\n",
        "\n",
        "# Define threshold\n",
        "threshold = 80\n",
        "\n",
        "# Filter rows where 'Score' is greater than the threshold\n",
        "filtered_df = df[df[\"Score\"] > threshold]\n",
        "\n",
        "# Display the filtered DataFrame\n",
        "print(filtered_df)"
      ],
      "metadata": {
        "colab": {
          "base_uri": "https://localhost:8080/"
        },
        "id": "TMb4Osa004Cy",
        "outputId": "a245d00f-b148-44aa-8b8a-8ab31de5b026"
      },
      "execution_count": null,
      "outputs": [
        {
          "output_type": "stream",
          "name": "stdout",
          "text": [
            "    Name  Age  Score\n",
            "0  Alice   25     90\n",
            "1    Bob   32     85\n",
            "3  David   45     88\n",
            "4    Eve   29     95\n"
          ]
        }
      ]
    },
    {
      "cell_type": "markdown",
      "source": [
        "Q10.**Create a histogram using Seaborn to visualize a distribution.**"
      ],
      "metadata": {
        "id": "HSJsQimR2UXV"
      }
    },
    {
      "cell_type": "code",
      "source": [
        "import seaborn as sns\n",
        "import matplotlib.pyplot as plt\n",
        "import numpy as np\n",
        "\n",
        "data = np.random.randn(1000)  # 1000 random values from a normal distribution\n",
        "\n",
        "# Create histogram\n",
        "plt.figure(figsize=(8, 6))\n",
        "sns.histplot(data, bins=30, kde=True, color=\"skyblue\")\n",
        "\n",
        "# Add labels and title\n",
        "plt.xlabel(\"Value\")\n",
        "plt.ylabel(\"Frequency\")\n",
        "plt.title(\"Histogram of Sample Data\")\n",
        "\n",
        "plt.show()"
      ],
      "metadata": {
        "colab": {
          "base_uri": "https://localhost:8080/",
          "height": 564
        },
        "id": "3Q3_W0lW2SXw",
        "outputId": "ce371632-3c29-4b0b-ce47-a6a898afdaea"
      },
      "execution_count": null,
      "outputs": [
        {
          "output_type": "display_data",
          "data": {
            "text/plain": [
              "<Figure size 800x600 with 1 Axes>"
            ],
            "image/png": "[encoded data removed]"
          },
          "metadata": {}
        }
      ]
    },
    {
      "cell_type": "markdown",
      "source": [
        "Q11.**A Perform matrix multiplication using NumPy.**"
      ],
      "metadata": {
        "id": "fw2PKw-N3AIf"
      }
    },
    {
      "cell_type": "code",
      "source": [
        "import numpy as np\n",
        "\n",
        "A = np.array([[1, 2], [3, 4]])\n",
        "B = np.array([[5, 6], [7, 8]])\n",
        "\n",
        "result = np.matmul(A, B)\n",
        "\n",
        "print(result)"
      ],
      "metadata": {
        "colab": {
          "base_uri": "https://localhost:8080/"
        },
        "id": "51sjPFKD248F",
        "outputId": "5953d167-2a7e-4a81-b026-c0fb49f71f41"
      },
      "execution_count": null,
      "outputs": [
        {
          "output_type": "stream",
          "name": "stdout",
          "text": [
            "[[19 22]\n",
            " [43 50]]\n"
          ]
        }
      ]
    },
    {
      "cell_type": "markdown",
      "source": [
        "Q12.**A Use Pandas to load a CSV file and display its first 5 rows.**"
      ],
      "metadata": {
        "id": "PQxiFBfg3Zyx"
      }
    },
    {
      "cell_type": "code",
      "source": [
        "import pandas as pd\n",
        "\n",
        "df = pd.read_csv('/content/student_records.csv')\n",
        "\n",
        "print(df.head())"
      ],
      "metadata": {
        "colab": {
          "base_uri": "https://localhost:8080/"
        },
        "id": "MIuSiEOt3YWJ",
        "outputId": "9f5c9dc2-6aec-4620-d903-8ae06ba70545"
      },
      "execution_count": 18,
      "outputs": [
        {
          "output_type": "stream",
          "name": "stdout",
          "text": [
            "  Name,OverallGrade,Obedient,ResearchScore,ProjectScore,Recommend\n",
            "0                                Henry,A,Y,90,85,Yes             \n",
            "1                                 John,C,N,85,51,Yes             \n",
            "2                                 David,F,N,10,17,No             \n",
            "3                                Holmes,B,Y,75,71,No             \n",
            "4                                Marvin,E,N,20,30,No             \n"
          ]
        }
      ]
    },
    {
      "cell_type": "markdown",
      "source": [
        "Q13.**A Create a 3D scatter plot using Plotly.**"
      ],
      "metadata": {
        "id": "u_bvtZu-Lmhh"
      }
    },
    {
      "cell_type": "code",
      "source": [
        "import plotly.graph_objects as go\n",
        "\n",
        "x = [1, 2, 3, 4, 5]\n",
        "y = [10, 11, 12, 13, 14]\n",
        "z = [5, 6, 7, 8, 9]\n",
        "\n",
        "# Create the 3D scatter plot\n",
        "fig = go.Figure(data=[go.Scatter3d(\n",
        "    x=x,\n",
        "    y=y,\n",
        "    z=z,\n",
        "    mode='markers',\n",
        "    marker=dict(\n",
        "        size=8,\n",
        "        color=z, # Color by z values\n",
        "        colorscale='Viridis', # Colorscale\n",
        "        opacity=0.8\n",
        "    )\n",
        ")])\n",
        "\n",
        "fig.update_layout(\n",
        "    title=\"3D Scatter Plot Example\",\n",
        "    scene=dict(\n",
        "        xaxis_title=\"X Axis\",\n",
        "        yaxis_title=\"Y Axis\",\n",
        "        zaxis_title=\"Z Axis\"\n",
        "    )\n",
        ")\n",
        "\n",
        "# Show the plot\n",
        "fig.show()"
      ],
      "metadata": {
        "id": "zED5xENr4OhK",
        "colab": {
          "base_uri": "https://localhost:8080/",
          "height": 542
        },
        "outputId": "af92d0fb-a062-4b7d-d719-4e1df4f6ca2d"
      },
      "execution_count": 19,
      "outputs": [
        {
          "output_type": "display_data",
          "data": {
            "text/html": [
              "<html>\n",
              "<head><meta charset=\"utf-8\" /></head>\n",
              "<body>\n",
              "    <div>            <script src=\"https://cdnjs.cloudflare.com/ajax/libs/mathjax/2.7.5/MathJax.js?config=TeX-AMS-MML_SVG\"></script><script type=\"text/javascript\">if (window.MathJax && window.MathJax.Hub && window.MathJax.Hub.Config) {window.MathJax.Hub.Config({SVG: {font: \"STIX-Web\"}});}</script>                <script type=\"text/javascript\">window.PlotlyConfig = {MathJaxConfig: 'local'};</script>\n",
              "        <script charset=\"utf-8\" src=\"https://cdn.plot.ly/plotly-2.35.2.min.js\"></script>                <div id=\"88312c35-11fa-4f5c-b283-a4072d970248\" class=\"plotly-graph-div\" style=\"height:525px; width:100%;\"></div>            <script type=\"text/javascript\">                                    window.PLOTLYENV=window.PLOTLYENV || {};                                    if (document.getElementById(\"88312c35-11fa-4f5c-b283-a4072d970248\")) {                    Plotly.newPlot(                        \"88312c35-11fa-4f5c-b283-a4072d970248\",                        [{\"marker\":{\"color\":[5,6,7,8,9],\"colorscale\":[[0.0,\"#440154\"],[0.1111111111111111,\"#482878\"],[0.2222222222222222,\"#3e4989\"],[0.3333333333333333,\"#31688e\"],[0.4444444444444444,\"#26828e\"],[0.5555555555555556,\"#1f9e89\"],[0.6666666666666666,\"#35b779\"],[0.7777777777777778,\"#6ece58\"],[0.8888888888888888,\"#b5de2b\"],[1.0,\"#fde725\"]],\"opacity\":0.8,\"size\":8},\"mode\":\"markers\",\"x\":[1,2,3,4,5],\"y\":[10,11,12,13,14],\"z\":[5,6,7,8,9],\"type\":\"scatter3d\"}],                        {\"template\":{\"data\":{\"histogram2dcontour\":[{\"type\":\"histogram2dcontour\",\"colorbar\":{\"outlinewidth\":0,\"ticks\":\"\"},\"colorscale\":[[0.0,\"#0d0887\"],[0.1111111111111111,\"#46039f\"],[0.2222222222222222,\"#7201a8\"],[0.3333333333333333,\"#9c179e\"],[0.4444444444444444,\"#bd3786\"],[0.5555555555555556,\"#d8576b\"],[0.6666666666666666,\"#ed7953\"],[0.7777777777777778,\"#fb9f3a\"],[0.8888888888888888,\"#fdca26\"],[1.0,\"#f0f921\"]]}],\"choropleth\":[{\"type\":\"choropleth\",\"colorbar\":{\"outlinewidth\":0,\"ticks\":\"\"}}],\"histogram2d\":[{\"type\":\"histogram2d\",\"colorbar\":{\"outlinewidth\":0,\"ticks\":\"\"},\"colorscale\":[[0.0,\"#0d0887\"],[0.1111111111111111,\"#46039f\"],[0.2222222222222222,\"#7201a8\"],[0.3333333333333333,\"#9c179e\"],[0.4444444444444444,\"#bd3786\"],[0.5555555555555556,\"#d8576b\"],[0.6666666666666666,\"#ed7953\"],[0.7777777777777778,\"#fb9f3a\"],[0.8888888888888888,\"#fdca26\"],[1.0,\"#f0f921\"]]}],\"heatmap\":[{\"type\":\"heatmap\",\"colorbar\":{\"outlinewidth\":0,\"ticks\":\"\"},\"colorscale\":[[0.0,\"#0d0887\"],[0.1111111111111111,\"#46039f\"],[0.2222222222222222,\"#7201a8\"],[0.3333333333333333,\"#9c179e\"],[0.4444444444444444,\"#bd3786\"],[0.5555555555555556,\"#d8576b\"],[0.6666666666666666,\"#ed7953\"],[0.7777777777777778,\"#fb9f3a\"],[0.8888888888888888,\"#fdca26\"],[1.0,\"#f0f921\"]]}],\"heatmapgl\":[{\"type\":\"heatmapgl\",\"colorbar\":{\"outlinewidth\":0,\"ticks\":\"\"},\"colorscale\":[[0.0,\"#0d0887\"],[0.1111111111111111,\"#46039f\"],[0.2222222222222222,\"#7201a8\"],[0.3333333333333333,\"#9c179e\"],[0.4444444444444444,\"#bd3786\"],[0.5555555555555556,\"#d8576b\"],[0.6666666666666666,\"#ed7953\"],[0.7777777777777778,\"#fb9f3a\"],[0.8888888888888888,\"#fdca26\"],[1.0,\"#f0f921\"]]}],\"contourcarpet\":[{\"type\":\"contourcarpet\",\"colorbar\":{\"outlinewidth\":0,\"ticks\":\"\"}}],\"contour\":[{\"type\":\"contour\",\"colorbar\":{\"outlinewidth\":0,\"ticks\":\"\"},\"colorscale\":[[0.0,\"#0d0887\"],[0.1111111111111111,\"#46039f\"],[0.2222222222222222,\"#7201a8\"],[0.3333333333333333,\"#9c179e\"],[0.4444444444444444,\"#bd3786\"],[0.5555555555555556,\"#d8576b\"],[0.6666666666666666,\"#ed7953\"],[0.7777777777777778,\"#fb9f3a\"],[0.8888888888888888,\"#fdca26\"],[1.0,\"#f0f921\"]]}],\"surface\":[{\"type\":\"surface\",\"colorbar\":{\"outlinewidth\":0,\"ticks\":\"\"},\"colorscale\":[[0.0,\"#0d0887\"],[0.1111111111111111,\"#46039f\"],[0.2222222222222222,\"#7201a8\"],[0.3333333333333333,\"#9c179e\"],[0.4444444444444444,\"#bd3786\"],[0.5555555555555556,\"#d8576b\"],[0.6666666666666666,\"#ed7953\"],[0.7777777777777778,\"#fb9f3a\"],[0.8888888888888888,\"#fdca26\"],[1.0,\"#f0f921\"]]}],\"mesh3d\":[{\"type\":\"mesh3d\",\"colorbar\":{\"outlinewidth\":0,\"ticks\":\"\"}}],\"scatter\":[{\"fillpattern\":{\"fillmode\":\"overlay\",\"size\":10,\"solidity\":0.2},\"type\":\"scatter\"}],\"parcoords\":[{\"type\":\"parcoords\",\"line\":{\"colorbar\":{\"outlinewidth\":0,\"ticks\":\"\"}}}],\"scatterpolargl\":[{\"type\":\"scatterpolargl\",\"marker\":{\"colorbar\":{\"outlinewidth\":0,\"ticks\":\"\"}}}],\"bar\":[{\"error_x\":{\"color\":\"#2a3f5f\"},\"error_y\":{\"color\":\"#2a3f5f\"},\"marker\":{\"line\":{\"color\":\"#E5ECF6\",\"width\":0.5},\"pattern\":{\"fillmode\":\"overlay\",\"size\":10,\"solidity\":0.2}},\"type\":\"bar\"}],\"scattergeo\":[{\"type\":\"scattergeo\",\"marker\":{\"colorbar\":{\"outlinewidth\":0,\"ticks\":\"\"}}}],\"scatterpolar\":[{\"type\":\"scatterpolar\",\"marker\":{\"colorbar\":{\"outlinewidth\":0,\"ticks\":\"\"}}}],\"histogram\":[{\"marker\":{\"pattern\":{\"fillmode\":\"overlay\",\"size\":10,\"solidity\":0.2}},\"type\":\"histogram\"}],\"scattergl\":[{\"type\":\"scattergl\",\"marker\":{\"colorbar\":{\"outlinewidth\":0,\"ticks\":\"\"}}}],\"scatter3d\":[{\"type\":\"scatter3d\",\"line\":{\"colorbar\":{\"outlinewidth\":0,\"ticks\":\"\"}},\"marker\":{\"colorbar\":{\"outlinewidth\":0,\"ticks\":\"\"}}}],\"scattermapbox\":[{\"type\":\"scattermapbox\",\"marker\":{\"colorbar\":{\"outlinewidth\":0,\"ticks\":\"\"}}}],\"scatterternary\":[{\"type\":\"scatterternary\",\"marker\":{\"colorbar\":{\"outlinewidth\":0,\"ticks\":\"\"}}}],\"scattercarpet\":[{\"type\":\"scattercarpet\",\"marker\":{\"colorbar\":{\"outlinewidth\":0,\"ticks\":\"\"}}}],\"carpet\":[{\"aaxis\":{\"endlinecolor\":\"#2a3f5f\",\"gridcolor\":\"white\",\"linecolor\":\"white\",\"minorgridcolor\":\"white\",\"startlinecolor\":\"#2a3f5f\"},\"baxis\":{\"endlinecolor\":\"#2a3f5f\",\"gridcolor\":\"white\",\"linecolor\":\"white\",\"minorgridcolor\":\"white\",\"startlinecolor\":\"#2a3f5f\"},\"type\":\"carpet\"}],\"table\":[{\"cells\":{\"fill\":{\"color\":\"#EBF0F8\"},\"line\":{\"color\":\"white\"}},\"header\":{\"fill\":{\"color\":\"#C8D4E3\"},\"line\":{\"color\":\"white\"}},\"type\":\"table\"}],\"barpolar\":[{\"marker\":{\"line\":{\"color\":\"#E5ECF6\",\"width\":0.5},\"pattern\":{\"fillmode\":\"overlay\",\"size\":10,\"solidity\":0.2}},\"type\":\"barpolar\"}],\"pie\":[{\"automargin\":true,\"type\":\"pie\"}]},\"layout\":{\"autotypenumbers\":\"strict\",\"colorway\":[\"#636efa\",\"#EF553B\",\"#00cc96\",\"#ab63fa\",\"#FFA15A\",\"#19d3f3\",\"#FF6692\",\"#B6E880\",\"#FF97FF\",\"#FECB52\"],\"font\":{\"color\":\"#2a3f5f\"},\"hovermode\":\"closest\",\"hoverlabel\":{\"align\":\"left\"},\"paper_bgcolor\":\"white\",\"plot_bgcolor\":\"#E5ECF6\",\"polar\":{\"bgcolor\":\"#E5ECF6\",\"angularaxis\":{\"gridcolor\":\"white\",\"linecolor\":\"white\",\"ticks\":\"\"},\"radialaxis\":{\"gridcolor\":\"white\",\"linecolor\":\"white\",\"ticks\":\"\"}},\"ternary\":{\"bgcolor\":\"#E5ECF6\",\"aaxis\":{\"gridcolor\":\"white\",\"linecolor\":\"white\",\"ticks\":\"\"},\"baxis\":{\"gridcolor\":\"white\",\"linecolor\":\"white\",\"ticks\":\"\"},\"caxis\":{\"gridcolor\":\"white\",\"linecolor\":\"white\",\"ticks\":\"\"}},\"coloraxis\":{\"colorbar\":{\"outlinewidth\":0,\"ticks\":\"\"}},\"colorscale\":{\"sequential\":[[0.0,\"#0d0887\"],[0.1111111111111111,\"#46039f\"],[0.2222222222222222,\"#7201a8\"],[0.3333333333333333,\"#9c179e\"],[0.4444444444444444,\"#bd3786\"],[0.5555555555555556,\"#d8576b\"],[0.6666666666666666,\"#ed7953\"],[0.7777777777777778,\"#fb9f3a\"],[0.8888888888888888,\"#fdca26\"],[1.0,\"#f0f921\"]],\"sequentialminus\":[[0.0,\"#0d0887\"],[0.1111111111111111,\"#46039f\"],[0.2222222222222222,\"#7201a8\"],[0.3333333333333333,\"#9c179e\"],[0.4444444444444444,\"#bd3786\"],[0.5555555555555556,\"#d8576b\"],[0.6666666666666666,\"#ed7953\"],[0.7777777777777778,\"#fb9f3a\"],[0.8888888888888888,\"#fdca26\"],[1.0,\"#f0f921\"]],\"diverging\":[[0,\"#8e0152\"],[0.1,\"#c51b7d\"],[0.2,\"#de77ae\"],[0.3,\"#f1b6da\"],[0.4,\"#fde0ef\"],[0.5,\"#f7f7f7\"],[0.6,\"#e6f5d0\"],[0.7,\"#b8e186\"],[0.8,\"#7fbc41\"],[0.9,\"#4d9221\"],[1,\"#276419\"]]},\"xaxis\":{\"gridcolor\":\"white\",\"linecolor\":\"white\",\"ticks\":\"\",\"title\":{\"standoff\":15},\"zerolinecolor\":\"white\",\"automargin\":true,\"zerolinewidth\":2},\"yaxis\":{\"gridcolor\":\"white\",\"linecolor\":\"white\",\"ticks\":\"\",\"title\":{\"standoff\":15},\"zerolinecolor\":\"white\",\"automargin\":true,\"zerolinewidth\":2},\"scene\":{\"xaxis\":{\"backgroundcolor\":\"#E5ECF6\",\"gridcolor\":\"white\",\"linecolor\":\"white\",\"showbackground\":true,\"ticks\":\"\",\"zerolinecolor\":\"white\",\"gridwidth\":2},\"yaxis\":{\"backgroundcolor\":\"#E5ECF6\",\"gridcolor\":\"white\",\"linecolor\":\"white\",\"showbackground\":true,\"ticks\":\"\",\"zerolinecolor\":\"white\",\"gridwidth\":2},\"zaxis\":{\"backgroundcolor\":\"#E5ECF6\",\"gridcolor\":\"white\",\"linecolor\":\"white\",\"showbackground\":true,\"ticks\":\"\",\"zerolinecolor\":\"white\",\"gridwidth\":2}},\"shapedefaults\":{\"line\":{\"color\":\"#2a3f5f\"}},\"annotationdefaults\":{\"arrowcolor\":\"#2a3f5f\",\"arrowhead\":0,\"arrowwidth\":1},\"geo\":{\"bgcolor\":\"white\",\"landcolor\":\"#E5ECF6\",\"subunitcolor\":\"white\",\"showland\":true,\"showlakes\":true,\"lakecolor\":\"white\"},\"title\":{\"x\":0.05},\"mapbox\":{\"style\":\"light\"}}},\"title\":{\"text\":\"3D Scatter Plot Example\"},\"scene\":{\"xaxis\":{\"title\":{\"text\":\"X Axis\"}},\"yaxis\":{\"title\":{\"text\":\"Y Axis\"}},\"zaxis\":{\"title\":{\"text\":\"Z Axis\"}}}},                        {\"responsive\": true}                    ).then(function(){\n",
              "                            \n",
              "var gd = document.getElementById('88312c35-11fa-4f5c-b283-a4072d970248');\n",
              "var x = new MutationObserver(function (mutations, observer) {{\n",
              "        var display = window.getComputedStyle(gd).display;\n",
              "        if (!display || display === 'none') {{\n",
              "            console.log([gd, 'removed!']);\n",
              "            Plotly.purge(gd);\n",
              "            observer.disconnect();\n",
              "        }}\n",
              "}});\n",
              "\n",
              "// Listen for the removal of the full notebook cells\n",
              "var notebookContainer = gd.closest('#notebook-container');\n",
              "if (notebookContainer) {{\n",
              "    x.observe(notebookContainer, {childList: true});\n",
              "}}\n",
              "\n",
              "// Listen for the clearing of the current output cell\n",
              "var outputEl = gd.closest('.output');\n",
              "if (outputEl) {{\n",
              "    x.observe(outputEl, {childList: true});\n",
              "}}\n",
              "\n",
              "                        })                };                            </script>        </div>\n",
              "</body>\n",
              "</html>"
            ]
          },
          "metadata": {}
        }
      ]
    },
    {
      "cell_type": "code",
      "source": [],
      "metadata": {
        "id": "1TGuHBcdNVi8"
      },
      "execution_count": null,
      "outputs": []
    },
    {
      "cell_type": "code",
      "source": [],
      "metadata": {
        "id": "uvWmPA5fQOVH"
      },
      "execution_count": null,
      "outputs": []
    }
  ]
}